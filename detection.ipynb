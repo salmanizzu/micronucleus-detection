{
 "cells": [
  {
   "cell_type": "markdown",
   "metadata": {},
   "source": [
    "# Micronucleus Detector"
   ]
  },
  {
   "cell_type": "code",
   "execution_count": 32,
   "metadata": {},
   "outputs": [],
   "source": [
    "import tensorflow as tf\n",
    "from tensorflow.keras.models import Sequential\n",
    "from tensorflow.keras.layers import Conv2D, MaxPooling2D, Flatten, Dense, Dropout\n",
    "from tensorflow.keras.preprocessing.image import ImageDataGenerator"
   ]
  },
  {
   "cell_type": "code",
   "execution_count": 33,
   "metadata": {},
   "outputs": [],
   "source": [
    "# Set the directory where your images are located\n",
    "image_directory = 'images/'  # Relative path to your images directory"
   ]
  },
  {
   "cell_type": "code",
   "execution_count": 34,
   "metadata": {},
   "outputs": [],
   "source": [
    "# Image preprocessing and augmentation setup\n",
    "datagen = ImageDataGenerator(\n",
    "    rescale=1./255,  # Normalize pixel values to [0, 1]\n",
    "    validation_split=0.2,  # Use 20% of data for validation\n",
    "    shear_range=0.2,\n",
    "    zoom_range=0.2,\n",
    "    horizontal_flip=True\n",
    ")"
   ]
  },
  {
   "cell_type": "code",
   "execution_count": 35,
   "metadata": {},
   "outputs": [
    {
     "name": "stdout",
     "output_type": "stream",
     "text": [
      "Found 430 images belonging to 2 classes.\n"
     ]
    },
    {
     "name": "stdout",
     "output_type": "stream",
     "text": [
      "Found 106 images belonging to 2 classes.\n"
     ]
    }
   ],
   "source": [
    "# Organize your images into subdirectories ('Positive' and 'Negative') if not already done\n",
    "\n",
    "# Train and validation generators\n",
    "train_generator = datagen.flow_from_directory(\n",
    "    image_directory,\n",
    "    target_size=(540, 960),  # Use original image size\n",
    "    batch_size=16,\n",
    "    class_mode='binary',\n",
    "    subset='training',\n",
    "    shuffle=True,\n",
    "    seed=42\n",
    ")\n",
    "\n",
    "validation_generator = datagen.flow_from_directory(\n",
    "    image_directory,\n",
    "    target_size=(540, 960),\n",
    "    batch_size=16,\n",
    "    class_mode='binary',\n",
    "    subset='validation',\n",
    "    shuffle=True,\n",
    "    seed=42\n",
    ")"
   ]
  },
  {
   "cell_type": "code",
   "execution_count": 36,
   "metadata": {},
   "outputs": [],
   "source": [
    "# Model architecture\n",
    "model = Sequential([\n",
    "    Conv2D(32, (3, 3), activation='relu', input_shape=(540, 960, 3)),\n",
    "    MaxPooling2D(pool_size=(2, 2)),\n",
    "    Conv2D(64, (3, 3), activation='relu'),\n",
    "    MaxPooling2D(pool_size=(2, 2)),\n",
    "    Conv2D(128, (3, 3), activation='relu'),\n",
    "    MaxPooling2D(pool_size=(2, 2)),\n",
    "    Flatten(),\n",
    "    Dense(256, activation='relu'),\n",
    "    Dropout(0.5),\n",
    "    Dense(1, activation='sigmoid')  # Output layer for binary classification\n",
    "])"
   ]
  },
  {
   "cell_type": "code",
   "execution_count": 37,
   "metadata": {},
   "outputs": [],
   "source": [
    "# Compile model\n",
    "model.compile(optimizer='adam', loss='binary_crossentropy', metrics=['accuracy'])"
   ]
  },
  {
   "cell_type": "code",
   "execution_count": 38,
   "metadata": {},
   "outputs": [
    {
     "name": "stdout",
     "output_type": "stream",
     "text": [
      "Epoch 1/20\n",
      "26/26 [==============================] - 125s 5s/step - loss: 5.4329 - accuracy: 0.7899 - val_loss: 0.4382 - val_accuracy: 0.8646\n",
      "Epoch 2/20\n",
      "26/26 [==============================] - 112s 4s/step - loss: 0.4552 - accuracy: 0.8551 - val_loss: 0.4488 - val_accuracy: 0.8438\n",
      "Epoch 3/20\n",
      "26/26 [==============================] - 113s 4s/step - loss: 0.4912 - accuracy: 0.8502 - val_loss: 0.4431 - val_accuracy: 0.8438\n",
      "Epoch 4/20\n",
      "26/26 [==============================] - 104s 4s/step - loss: 0.4707 - accuracy: 0.8527 - val_loss: 0.3925 - val_accuracy: 0.8646\n",
      "Epoch 5/20\n",
      "26/26 [==============================] - 106s 4s/step - loss: 0.4430 - accuracy: 0.8454 - val_loss: 0.3949 - val_accuracy: 0.8646\n",
      "Epoch 6/20\n",
      "26/26 [==============================] - 110s 4s/step - loss: 0.4561 - accuracy: 0.8575 - val_loss: 0.3978 - val_accuracy: 0.8646\n",
      "Epoch 7/20\n",
      "26/26 [==============================] - 110s 4s/step - loss: 0.4667 - accuracy: 0.8527 - val_loss: 0.4317 - val_accuracy: 0.8542\n",
      "Epoch 8/20\n",
      "26/26 [==============================] - 112s 4s/step - loss: 0.4375 - accuracy: 0.8551 - val_loss: 0.4393 - val_accuracy: 0.8438\n",
      "Epoch 9/20\n",
      "26/26 [==============================] - 119s 5s/step - loss: 0.4376 - accuracy: 0.8527 - val_loss: 0.4888 - val_accuracy: 0.8438\n",
      "Epoch 10/20\n",
      "26/26 [==============================] - 117s 4s/step - loss: 0.4656 - accuracy: 0.8551 - val_loss: 0.4418 - val_accuracy: 0.8542\n",
      "Epoch 11/20\n",
      "26/26 [==============================] - 117s 4s/step - loss: 0.4301 - accuracy: 0.8575 - val_loss: 0.4088 - val_accuracy: 0.8750\n",
      "Epoch 12/20\n",
      "26/26 [==============================] - 115s 4s/step - loss: 0.4503 - accuracy: 0.8551 - val_loss: 0.3981 - val_accuracy: 0.8646\n",
      "Epoch 13/20\n",
      "26/26 [==============================] - 114s 4s/step - loss: 0.4300 - accuracy: 0.8575 - val_loss: 0.4227 - val_accuracy: 0.8542\n",
      "Epoch 14/20\n",
      "26/26 [==============================] - 114s 4s/step - loss: 0.4334 - accuracy: 0.8599 - val_loss: 0.3940 - val_accuracy: 0.8646\n",
      "Epoch 15/20\n",
      "26/26 [==============================] - 112s 4s/step - loss: 0.4702 - accuracy: 0.8382 - val_loss: 0.4355 - val_accuracy: 0.8646\n",
      "Epoch 16/20\n",
      "26/26 [==============================] - 112s 4s/step - loss: 0.4597 - accuracy: 0.8599 - val_loss: 0.4174 - val_accuracy: 0.8542\n",
      "Epoch 17/20\n",
      "26/26 [==============================] - 113s 4s/step - loss: 0.4520 - accuracy: 0.8527 - val_loss: 0.3933 - val_accuracy: 0.8646\n",
      "Epoch 18/20\n",
      "26/26 [==============================] - 111s 4s/step - loss: 0.4290 - accuracy: 0.8575 - val_loss: 0.4058 - val_accuracy: 0.8646\n",
      "Epoch 19/20\n",
      "26/26 [==============================] - 115s 4s/step - loss: 0.4330 - accuracy: 0.8551 - val_loss: 0.4287 - val_accuracy: 0.8542\n",
      "Epoch 20/20\n",
      "26/26 [==============================] - 120s 5s/step - loss: 0.4342 - accuracy: 0.8527 - val_loss: 0.4409 - val_accuracy: 0.8542\n"
     ]
    }
   ],
   "source": [
    "# Train the model\n",
    "history = model.fit(\n",
    "    train_generator,\n",
    "    steps_per_epoch=train_generator.samples // train_generator.batch_size,\n",
    "    validation_data=validation_generator,\n",
    "    validation_steps=validation_generator.samples // validation_generator.batch_size,\n",
    "    epochs=20  # Adjust number of epochs as needed\n",
    ")"
   ]
  },
  {
   "cell_type": "code",
   "execution_count": 39,
   "metadata": {},
   "outputs": [],
   "source": [
    "# Save the trained model\n",
    "model.save('micronucleus_slide_classifier.h5')"
   ]
  },
  {
   "cell_type": "code",
   "execution_count": 40,
   "metadata": {},
   "outputs": [
    {
     "name": "stdout",
     "output_type": "stream",
     "text": [
      "7/7 [==============================] - 14s 2s/step - loss: 0.4305 - accuracy: 0.8585\n",
      "Test Accuracy: 0.86\n"
     ]
    }
   ],
   "source": [
    "# Evaluate the model\n",
    "test_loss, test_acc = model.evaluate(validation_generator)\n",
    "print(f'Test Accuracy: {test_acc:.2f}')"
   ]
  }
 ],
 "metadata": {
  "kernelspec": {
   "display_name": "datascience",
   "language": "python",
   "name": "python3"
  },
  "language_info": {
   "codemirror_mode": {
    "name": "ipython",
    "version": 3
   },
   "file_extension": ".py",
   "mimetype": "text/x-python",
   "name": "python",
   "nbconvert_exporter": "python",
   "pygments_lexer": "ipython3",
   "version": "3.10.13"
  }
 },
 "nbformat": 4,
 "nbformat_minor": 2
}
